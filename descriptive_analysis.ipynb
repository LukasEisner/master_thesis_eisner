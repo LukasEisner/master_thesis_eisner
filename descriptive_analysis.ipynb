{
 "cells": [
  {
   "cell_type": "code",
   "execution_count": null,
   "metadata": {},
   "outputs": [],
   "source": [
    "%load_ext autoreload\n",
    "%autoreload 2\n",
    "%matplotlib inline"
   ]
  },
  {
   "cell_type": "code",
   "execution_count": 1,
   "metadata": {},
   "outputs": [],
   "source": [
    "import numpy as np\n",
    "import pandas as pd\n",
    "import matplotlib.pyplot as plot \n",
    "\n",
    "from functions.load_data import load_financial_data, load_sentiment_data\n",
    "from functions.preprocessing import merge_sentiment_financials\n",
    "from functions.data_analysis import test_stationarity\n",
    "from statsmodels.tsa.stattools import adfuller\n",
    "from statsmodels.tsa.vector_ar.vecm import coint_johansen\n",
    "from statsmodels.graphics.tsaplots import plot_acf\n",
    "from statsmodels.graphics.tsaplots import plot_pacf\n",
    "from scipy.stats import linregress\n",
    "\n"
   ]
  },
  {
   "cell_type": "code",
   "execution_count": null,
   "metadata": {},
   "outputs": [],
   "source": [
    "# Load Data\n",
    "df_financials = load_financial_data(filepath = 'data/top20_aggre_price_reduced.csv', start_date = '2017-07-28', end_date = '2018-07-27', tickers = 'BTC')\n",
    "df_sentiment_aggr = load_sentiment_data(filepath = 'data/aggregated_tweets/BTC_sentiment_aggr_6h_shifted.csv', start_date = '2017-07-28', end_date = '2018-07-27')\n",
    "\n",
    "# Aggregate financials to fit sentiment frequency\n",
    "df_financials_aggr = df_financials[::6]\n",
    "\n",
    "# shift index by a day for large aggregations\n",
    "#df_sentiment_aggr.index = df_sentiment_aggr.index.shift(-1, freq='D')\n",
    "\n",
    "# Merge the data\n",
    "df_merged = merge_sentiment_financials(df_financials_aggr, df_sentiment_aggr)"
   ]
  },
  {
   "cell_type": "code",
   "execution_count": null,
   "metadata": {},
   "outputs": [],
   "source": [
    "# Get different values for BTC (log, diff, combination)\n",
    "\n",
    "# Diff\n",
    "df_merged['BTC_diff'] = df_merged['BTC']-df_merged['BTC'].shift()\n",
    "\n",
    "\n",
    "# Log\n",
    "df_merged['BTC_log']= np.log(df_merged['BTC'])\n",
    "\n",
    "# Diff of log\n",
    "df_merged['BTC_log_diff'] = df_merged['BTC_log']-df_merged['BTC_log'].shift()\n",
    "\n",
    "# Drop empty rows which were created through diff\n",
    "df_merged.dropna(inplace = True)\n",
    "\n",
    "# Make financial data binary (rise: 1/not rise: 0)\n",
    "df_merged['BTC_bin'] = np.sign(df_merged['BTC_diff'])\n",
    "df_merged['BTC_bin'] = df_merged['BTC_bin'].replace(to_replace = -1, value = 0)"
   ]
  },
  {
   "cell_type": "code",
   "execution_count": null,
   "metadata": {},
   "outputs": [],
   "source": [
    "#Fill missing values with the ffill method\n",
    "df_merged['amount_of_tweets'] = df_merged['amount_of_tweets'].replace(to_replace=0, method = 'ffill')\n",
    "df_merged['sentiment'] = df_merged['sentiment'].replace(to_replace=0, method = 'ffill')\n",
    "df_merged['weighted_sentiment'] = df_merged['weighted_sentiment'].replace(to_replace=0, method = 'ffill')\n",
    "df_merged['sentiwordnet'] = df_merged['sentiwordnet'].replace(to_replace=0, method = 'ffill')\n",
    "df_merged['weighted_sentiwordnet'] = df_merged['weighted_sentiwordnet'].replace(to_replace=0, method = 'ffill')\n",
    "\n",
    "# Create Rolling Means\n",
    "df_merged['sentiment_rm'] = df_merged['sentiment'].rolling(4, min_periods=4).mean()\n",
    "df_merged['amount_of_tweets_rm'] = df_merged['amount_of_tweets'].rolling(4, min_periods=4).mean()\n",
    "df_merged['weighted_sentiment_rm'] = df_merged['weighted_sentiment'].rolling(4, min_periods=4).mean()\n",
    "df_merged['sentiwordnet_rm'] = df_merged['sentiwordnet'].rolling(4, min_periods=4).mean()\n",
    "df_merged['weighted_sentiwordnet_rm'] = df_merged['weighted_sentiwordnet'].rolling(4, min_periods=4).mean()\n",
    "\n",
    "\n",
    "\n",
    "df_merged.dropna(inplace = True)\n",
    "\n",
    "#create diffs\n",
    "df_merged['sentiment_diff'] =df_merged['sentiment']-df_merged['sentiment'].shift()\n",
    "df_merged['sentiwordnet_diff'] =df_merged['sentiwordnet']-df_merged['sentiwordnet'].shift()\n",
    "df_merged['weighted_sentiment_rm_diff'] =df_merged['weighted_sentiment_rm']-df_merged['weighted_sentiment_rm'].shift()\n",
    "df_merged['weighted_sentiment_diff'] =df_merged['weighted_sentiment']-df_merged['weighted_sentiment'].shift()\n",
    "df_merged['sentiment_rm_diff'] =df_merged['sentiment_rm']-df_merged['sentiment_rm'].shift()\n",
    "df_merged['amount_of_tweets_rm_diff'] = df_merged['amount_of_tweets_rm'] -df_merged['amount_of_tweets_rm'].shift()\n",
    "df_merged['sentiwordnet_rm_diff'] =df_merged['sentiwordnet_rm']-df_merged['sentiwordnet_rm'].shift()\n",
    "df_merged['weighted_sentiwordnet_diff'] =df_merged['weighted_sentiwordnet']-df_merged['weighted_sentiwordnet'].shift()\n",
    "df_merged['weighted_sentiwordnet_rm_diff'] =df_merged['weighted_sentiwordnet_rm']-df_merged['weighted_sentiwordnet_rm'].shift()\n",
    "df_merged.dropna(inplace = True)"
   ]
  },
  {
   "cell_type": "code",
   "execution_count": null,
   "metadata": {},
   "outputs": [],
   "source": [
    "# Delete last row of df because it is not a full 6h\n",
    "df_merged.drop(df_merged.tail(1).index, inplace = True)"
   ]
  },
  {
   "cell_type": "code",
   "execution_count": null,
   "metadata": {},
   "outputs": [],
   "source": [
    "# 6h Sentiment aggregation weighed vs unweighted\n",
    "fig, ax = plot.subplots(2,1)\n",
    "fig.suptitle(\"Sentiment Score (Method 1): Unweighted vs. Weighted \", fontsize=15)\n",
    "ax[0].plot(df_merged['sentiment'])\n",
    "ax[0].set_ylabel('Unweighted Score')\n",
    "ax[0].set_ylim(-1,1)\n",
    "ax[1].plot(df_merged['weighted_sentiment'])\n",
    "ax[1].set_ylim(-1,1)\n",
    "ax[1].set_ylabel('Weighted Score')\n",
    "#plot.plot(df_merged['sentiment'])\n",
    "\n",
    "\n",
    "plot.show()"
   ]
  },
  {
   "cell_type": "code",
   "execution_count": null,
   "metadata": {},
   "outputs": [],
   "source": [
    "# Load financials for multiple coins\n",
    "financials_BTC = load_financial_data(filepath = 'data/top20_aggre_price_reduced.csv', start_date = '2017-07-28', end_date = '2018-07-27', tickers = 'BTC')\n",
    "financials_ETH = load_financial_data(filepath = 'data/top20_aggre_price_reduced.csv', start_date = '2017-07-28', end_date = '2018-07-27', tickers = 'ETH')\n",
    "financials_XRP = load_financial_data(filepath = 'data/top20_aggre_price_reduced.csv', start_date = '2017-07-28', end_date = '2018-07-27', tickers = 'XRP')\n"
   ]
  },
  {
   "cell_type": "code",
   "execution_count": null,
   "metadata": {},
   "outputs": [],
   "source": [
    "# Aggregate each coin\n",
    "financials_BTC_aggr = financials_BTC[::24]\n",
    "financials_ETH_aggr = financials_ETH[::24]\n",
    "financials_XRP_aggr = financials_XRP[::24]\n",
    "financials_df = pd.concat([financials_BTC_aggr, financials_ETH_aggr, financials_XRP_aggr], axis=1)"
   ]
  },
  {
   "cell_type": "code",
   "execution_count": null,
   "metadata": {},
   "outputs": [],
   "source": [
    "# Create daily change\n",
    "financials_df['BTC_diff'] = financials_df['BTC']-financials_df['BTC'].shift()\n",
    "financials_df['ETH_diff'] = financials_df['ETH']-financials_df['ETH'].shift()\n",
    "financials_df['XRP_diff'] = financials_df['XRP']-financials_df['XRP'].shift()"
   ]
  },
  {
   "cell_type": "code",
   "execution_count": null,
   "metadata": {},
   "outputs": [],
   "source": [
    "# Plot Financial change and check for stationarity\n",
    "plot.plot(df_merged['BTC_diff'])\n",
    "plot.xlabel('Date', fontsize=12)\n",
    "plot.ylabel('Change in USD', fontsize=12)\n",
    "plot.title(\"6h Financial Value Change of Bitcoin (BTC_diff)\", fontsize=15)\n",
    "plot.show()\n",
    "test_stationarity(df_merged['BTC_log'])"
   ]
  },
  {
   "cell_type": "code",
   "execution_count": null,
   "metadata": {},
   "outputs": [],
   "source": [
    "# Plot Sentiment vs. Rolling Mean Sentiment\n",
    "plot.plot(df_merged['weighted_sentiment_diff'])\n",
    "plot.plot(df_merged['weighted_sentiment_rm_diff'])\n",
    "plot.xlabel('Date', fontsize=12)\n",
    "plot.ylabel('Sentiment Score', fontsize=12)\n",
    "plot.title(\"6h change in Weighted Sentiment (Method 1)\", fontsize=15)\n",
    "plot.legend()\n",
    "plot.show()\n"
   ]
  },
  {
   "cell_type": "code",
   "execution_count": null,
   "metadata": {},
   "outputs": [],
   "source": [
    "# Plot SentiWordNet vs. Rolling Mean SentiWordNet\n",
    "plot.plot(df_merged['weighted_sentiwordnet_diff'])\n",
    "plot.plot(df_merged['weighted_sentiwordnet_rm_diff'])\n",
    "plot.xlabel('Date', fontsize=12)\n",
    "plot.ylabel('Sentiment Score', fontsize=12)\n",
    "plot.title(\"6h change in Weighted Sentiment (Method 2)\", fontsize=15)\n",
    "plot.legend()\n",
    "plot.show()\n"
   ]
  },
  {
   "cell_type": "code",
   "execution_count": null,
   "metadata": {},
   "outputs": [],
   "source": [
    "# Plot unchanged BTC\n",
    "plot.plot(df_merged['BTC'])\n",
    "plot.xlabel('Date', fontsize=12)\n",
    "plot.ylabel('Price in USD', fontsize=12)\n",
    "plot.title(\"Price distribution of bitcoin\", fontsize=15)\n",
    "plot.show()\n",
    "test_stationarity(df_merged['BTC'])"
   ]
  },
  {
   "cell_type": "code",
   "execution_count": null,
   "metadata": {},
   "outputs": [],
   "source": [
    "# Check if log solves stationarity issue\n",
    "plot.plot(df_merged['BTC_log'])\n",
    "plot.xlabel('Date', fontsize=12)\n",
    "plot.ylabel('Price in USD logged', fontsize=12)\n",
    "plot.title(\"Price distribution of bitcoin logged\", fontsize=15)\n",
    "plot.show()\n",
    "test_stationarity(df_merged['BTC_log'])"
   ]
  },
  {
   "cell_type": "code",
   "execution_count": null,
   "metadata": {},
   "outputs": [],
   "source": [
    "# Sanity check: Log and diff should provide stationary graph\n",
    "plot.plot(df_merged['BTC_log_diff'])\n",
    "plot.xlabel('Date', fontsize=12)\n",
    "plot.ylabel('Price change in logged USD', fontsize=12)\n",
    "plot.title(\"Price change distribution of logged bitcoin\", fontsize=15)\n",
    "plot.show()\n",
    "test_stationarity(df_merged['BTC_log_diff'])\n"
   ]
  },
  {
   "cell_type": "code",
   "execution_count": null,
   "metadata": {},
   "outputs": [],
   "source": [
    "# Plot both Sentiment and BTC Price\n",
    "fig, ax1 = plot.subplots()\n",
    "color = 'tab:blue'\n",
    "ax1.set_xlabel('Date')\n",
    "ax1.set_ylabel('Sentiwordnet RM 24h', color=color)\n",
    "ax1.plot(df_merged['sentiwordnet_rm'], color=color)\n",
    "ax1.tick_params(axis='y', labelcolor=color)\n",
    "\n",
    "ax2 = ax1.twinx()  # instantiate a second axes that shares the same x-axis\n",
    "\n",
    "color = 'tab:red'\n",
    "ax2.set_ylabel('Price', color=color)  # we already handled the x-label with ax1\n",
    "ax2.plot(df_merged['BTC'], color=color)\n",
    "ax2.tick_params(axis='y', labelcolor=color)\n",
    "\n",
    "fig.tight_layout()  # otherwise the right y-label is slightly clipped\n",
    "plot.show()\n"
   ]
  },
  {
   "cell_type": "code",
   "execution_count": null,
   "metadata": {},
   "outputs": [],
   "source": [
    "# Plot both weighted Sentiment and BTC Price\n",
    "fig, ax1 = plot.subplots()\n",
    "color = 'tab:blue'\n",
    "ax1.set_xlabel('Date')\n",
    "ax1.set_ylabel('Weighted Sentiment RM 24h', color=color)\n",
    "ax1.plot(df_merged['weighted_sentiment_rm'], color=color)\n",
    "ax1.tick_params(axis='y', labelcolor=color)\n",
    "\n",
    "ax2 = ax1.twinx()  # instantiate a second axes that shares the same x-axis\n",
    "\n",
    "color = 'tab:red'\n",
    "ax2.set_ylabel('Price', color=color)  # we already handled the x-label with ax1\n",
    "ax2.plot(df_merged['BTC'], color=color)\n",
    "ax2.tick_params(axis='y', labelcolor=color)\n",
    "\n",
    "fig.tight_layout()  # otherwise the right y-label is slightly clipped\n",
    "plot.show()\n"
   ]
  },
  {
   "cell_type": "code",
   "execution_count": null,
   "metadata": {},
   "outputs": [],
   "source": [
    "# Plot number of tweets\n",
    "plot.plot(df_merged['amount_of_tweets_rm'])\n",
    "plot.xlabel('Date', fontsize=12)\n",
    "plot.ylabel('Amount of Tweets RM 24h', fontsize=12)\n",
    "plot.title(\"Amount of Tweets distribution of bitcoin\", fontsize=15)\n",
    "plot.show()\n",
    "test_stationarity(df_merged['amount_of_tweets'])"
   ]
  },
  {
   "cell_type": "code",
   "execution_count": null,
   "metadata": {},
   "outputs": [],
   "source": [
    "# Partial Autocorrelation of BTC log diff\n",
    "# alpha = 0.01 \n",
    "series = df_merged['weighted_sentiwordnet_rm_diff']\n",
    "plot_pacf(series, lags=10, alpha=0.05)\n",
    "plot.title('Partial Autocorrelation of log diff BTC')\n",
    "plot.show()"
   ]
  },
  {
   "cell_type": "code",
   "execution_count": null,
   "metadata": {},
   "outputs": [],
   "source": [
    "# Partial Autocorrelation of Sentiment\n",
    "series = df_merged['weighted_sentiment_rm']\n",
    "plot_pacf(series, lags=50)\n",
    "plot.title('Partial Autocorrelation of weighted_sentiwordnet_rm with 6h aggr ')\n",
    "plot.show()"
   ]
  },
  {
   "cell_type": "code",
   "execution_count": null,
   "metadata": {},
   "outputs": [],
   "source": [
    "# Autocorrelation of Sentiment\n",
    "series = df_merged['weighted_sentiment_rm']\n",
    "plot_pacf(series, lags=50)\n",
    "plot.title('Partial Autocorrelation of weighted Sentiment 24h RM')\n",
    "plot.show()"
   ]
  },
  {
   "cell_type": "code",
   "execution_count": null,
   "metadata": {},
   "outputs": [],
   "source": [
    "# Autocorrelation of Sentiment\n",
    "series = df_merged['amount_of_tweets_rm']\n",
    "plot_pacf(series, lags=50)\n",
    "plot.title('Partial Autocorrelation of the amount of tweets')\n",
    "plot.show()"
   ]
  },
  {
   "cell_type": "code",
   "execution_count": null,
   "metadata": {},
   "outputs": [],
   "source": [
    "# Basic values for linear regression\n",
    "a,b,c,d,e = linregress(df_merged['sentiment_rm'], df_merged['BTC_log_diff'])\n",
    "print('Linear regression of sentiment_rm and BTC_log_diff')\n",
    "print ('Slope = ' + str(a))\n",
    "print ('Intercept = ' + str(b))\n",
    "print('Rvalue = ' + str(c))\n",
    "print('Pvalue = ' + str(d))\n",
    "print('STDerr = ' + str(e))\n",
    "print('')\n",
    "a,b,c,d,e = linregress(df_merged['weighted_sentiment_rm'], df_merged['BTC_log_diff'])\n",
    "print('Linear regression of weighted_sentiment_rm and BTC_log_diff')\n",
    "print ('Slope = ' + str(a))\n",
    "print ('Intercept = ' + str(b))\n",
    "print('Rvalue = ' + str(c))\n",
    "print('Pvalue = ' + str(d))\n",
    "print('STDerr = ' + str(e))\n",
    "print('')\n",
    "a,b,c,d,e = linregress(df_merged['weighted_sentiment_rm'], df_merged['BTC_log'])\n",
    "print('Linear regression of sentiment_rm and BTC_log')\n",
    "print ('Slope = ' + str(a))\n",
    "print ('Intercept = ' + str(b))\n",
    "print('Rvalue = ' + str(c))\n",
    "print('Pvalue = ' + str(d))\n",
    "print('STDerr = ' + str(e))"
   ]
  },
  {
   "cell_type": "code",
   "execution_count": null,
   "metadata": {},
   "outputs": [],
   "source": [
    "# OLS for 6H aggregation\n",
    "import statsmodels.api as sm\n",
    "x = np.array(df_merged['sentiwordnet_rm']).reshape(-1,1)\n",
    "y = np.array(df_merged['BTC_log_diff']).reshape(-1,1)\n",
    "\n",
    "x = sm.add_constant(x)\n",
    "model = sm.OLS(y,x).fit()\n",
    "model.summary()"
   ]
  },
  {
   "cell_type": "code",
   "execution_count": null,
   "metadata": {},
   "outputs": [],
   "source": [
    "# QQ Plot for sentiwordnet_rm vs BTC_log_diff\n",
    "import matplotlib.pyplot as plt\n",
    "res = model.resid # residuals\n",
    "fig = sm.qqplot(res, line='s')\n"
   ]
  },
  {
   "cell_type": "code",
   "execution_count": null,
   "metadata": {},
   "outputs": [],
   "source": [
    "# Check for cointegration of variables\n",
    "print(coint_johansen(df_merged[['BTC', 'amount_of_tweets', 'sentiment', 'weighted_sentiment']], -1, 1).eig)\n",
    "print(coint_johansen(df_merged[['BTC_log', 'amount_of_tweets', 'sentiment', 'weighted_sentiment']], -1, 1).eig)\n",
    "print(coint_johansen(df_merged[['BTC_diff', 'amount_of_tweets', 'sentiment', 'weighted_sentiment']], -1, 1).eig)\n",
    "print(coint_johansen(df_merged[['BTC_log_diff', 'amount_of_tweets', 'sentiment', 'weighted_sentiment']], -1, 1).eig)\n",
    "\n"
   ]
  }
 ],
 "metadata": {
  "kernelspec": {
   "display_name": "Python (Sentiment Env)",
   "language": "python",
   "name": "sentiment_env"
  },
  "language_info": {
   "codemirror_mode": {
    "name": "ipython",
    "version": 3
   },
   "file_extension": ".py",
   "mimetype": "text/x-python",
   "name": "python",
   "nbconvert_exporter": "python",
   "pygments_lexer": "ipython3",
   "version": "3.6.6"
  }
 },
 "nbformat": 4,
 "nbformat_minor": 2
}
