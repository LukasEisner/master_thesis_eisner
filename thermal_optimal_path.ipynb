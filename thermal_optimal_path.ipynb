{
 "cells": [
  {
   "cell_type": "code",
   "execution_count": null,
   "metadata": {},
   "outputs": [],
   "source": [
    "%load_ext autoreload\n",
    "%autoreload 2\n",
    "%matplotlib inline"
   ]
  },
  {
   "cell_type": "code",
   "execution_count": 1,
   "metadata": {},
   "outputs": [],
   "source": [
    "import numpy as np\n",
    "import pandas as pd\n",
    "import matplotlib.pyplot as plt \n",
    "\n",
    "from functions.load_data import load_financial_data, load_sentiment_data\n",
    "from functions.preprocessing import merge_sentiment_financials\n",
    "from thermal_optimal_path.lattice import partition_function, iter_lattice \n",
    "from thermal_optimal_path.statistics import average_path\n",
    "\n",
    "# TOP method adapted from https://github.com/amwatt/thermal_optimal_path/tree/master/thermal_optimal_path"
   ]
  },
  {
   "cell_type": "code",
   "execution_count": null,
   "metadata": {},
   "outputs": [],
   "source": [
    "# Load Data\n",
    "df_financials = load_financial_data(filepath = r'C:\\Users\\lukas\\Dropbox\\STUDIUM\\Python\\master_thesis\\data\\top20_aggre_price_reduced.csv', start_date = '2017-07-28', end_date = '2018-07-27', tickers = 'BTC')\n",
    "df_sentiment_aggr = load_sentiment_data(filepath = 'C:/Users/lukas/Dropbox/STUDIUM/Python/master_thesis/data/aggregated_tweets/BTC_sentiment_aggr_5d_shifted.csv', start_date = '2017-07-28', end_date = '2018-07-27')\n",
    "\n",
    "# Aggregate financials to fit sentiment frequency\n",
    "df_financials_aggr = df_financials[::120]\n",
    "\n",
    "# shift date for large aggregation\n",
    "#df_sentiment_aggr.index = df_sentiment_aggr.index.shift(-2,freq='d')\n",
    "\n",
    "# Merge the data\n",
    "df_merged = merge_sentiment_financials(df_financials_aggr, df_sentiment_aggr)\n",
    "\n"
   ]
  },
  {
   "cell_type": "code",
   "execution_count": null,
   "metadata": {},
   "outputs": [],
   "source": [
    "# Get different values for BTC (log, diff, combination)\n",
    "\n",
    "# Diff\n",
    "df_merged['BTC_diff'] = df_merged['BTC']-df_merged['BTC'].shift()\n",
    "\n",
    "\n",
    "# Log\n",
    "df_merged['BTC_log']= np.log(df_merged['BTC'])\n",
    "\n",
    "# Diff of log\n",
    "df_merged['BTC_log_diff'] = df_merged['BTC_log']-df_merged['BTC_log'].shift()\n",
    "\n",
    "# Drop empty rows which were created through diff\n",
    "df_merged.dropna(inplace = True)\n",
    "\n",
    "# Make financial data binary (rise: 1/not rise: 0)\n",
    "df_merged['BTC_bin'] = np.sign(df_merged['BTC_diff'])\n",
    "df_merged['BTC_bin'] = df_merged['BTC_bin'].replace(to_replace = -1, value = 0)\n"
   ]
  },
  {
   "cell_type": "code",
   "execution_count": null,
   "metadata": {},
   "outputs": [],
   "source": [
    "# Diff for other coins\n",
    "df_merged['XRP_diff'] = df_merged['XRP']-df_merged['XRP'].shift()\n",
    "\n",
    "# Drop empty rows which were created through diff\n",
    "df_merged.dropna(inplace = True)"
   ]
  },
  {
   "cell_type": "code",
   "execution_count": null,
   "metadata": {},
   "outputs": [],
   "source": [
    "#Fill missing values with the ffill method\n",
    "df_merged['amount_of_tweets'] = df_merged['amount_of_tweets'].replace(to_replace=0, method = 'ffill')\n",
    "df_merged['sentiment'] = df_merged['sentiment'].replace(to_replace=0, method = 'ffill')\n",
    "df_merged['weighted_sentiment'] = df_merged['weighted_sentiment'].replace(to_replace=0, method = 'ffill')\n",
    "df_merged['sentiwordnet'] = df_merged['sentiwordnet'].replace(to_replace=0, method = 'ffill')\n",
    "df_merged['weighted_sentiwordnet'] = df_merged['weighted_sentiwordnet'].replace(to_replace=0, method = 'ffill')\n",
    "\n",
    "# Create rolling means\n",
    "df_merged['sentiment_rm'] = df_merged['sentiment'].rolling(24, min_periods=24).mean()\n",
    "df_merged['amount_of_tweets_rm'] = df_merged['amount_of_tweets'].rolling(24, min_periods=24).mean()\n",
    "df_merged['weighted_sentiment_rm'] = df_merged['weighted_sentiment'].rolling(24, min_periods=24).mean()\n",
    "df_merged['sentiwordnet_rm'] = df_merged['sentiwordnet'].rolling(24, min_periods=24).mean()\n",
    "df_merged['weighted_sentiwordnet_rm'] = df_merged['weighted_sentiwordnet'].rolling(24, min_periods=24).mean()\n",
    "\n",
    "df_merged.dropna(inplace = True)\n",
    "\n",
    "df_merged['weighted_sentiment_rm_diff'] =df_merged['weighted_sentiment_rm']-df_merged['weighted_sentiment_rm'].shift()\n",
    "df_merged['sentiment_rm_diff'] =df_merged['sentiment_rm']-df_merged['sentiment_rm'].shift()\n",
    "df_merged['amount_of_tweets_rm_diff'] = df_merged['amount_of_tweets_rm'] -df_merged['amount_of_tweets_rm'].shift()\n",
    "df_merged['sentiwordnet_rm_diff'] =df_merged['sentiwordnet_rm']-df_merged['sentiwordnet_rm'].shift()\n",
    "df_merged['weighted_sentiwordnet_rm_diff'] =df_merged['weighted_sentiwordnet_rm']-df_merged['weighted_sentiwordnet_rm'].shift()\n",
    "df_merged.dropna(inplace = True)"
   ]
  },
  {
   "cell_type": "code",
   "execution_count": null,
   "metadata": {},
   "outputs": [],
   "source": [
    "#Standardise the time-series\n",
    "def standardise(ts):\n",
    "    ts -= np.mean(ts)\n",
    "    return ts / np.std(ts)\n",
    "\n",
    "x = df_merged['BTC_diff'].values\n",
    "y = df_merged['weighted_sentiwordnet_rm_diff'].values\n",
    "\n",
    "x = standardise(x)\n",
    "y = standardise(y)\n",
    "\n"
   ]
  },
  {
   "cell_type": "code",
   "execution_count": null,
   "metadata": {
    "scrolled": true
   },
   "outputs": [],
   "source": [
    "# Plot the lead-lag structure\n",
    "\n",
    "temperature = 1\n",
    "g = partition_function(x,y , temperature)\n",
    "avg = average_path(g)\n",
    "plt.plot(avg[::2], label='T = 1')\n",
    "\n",
    "temperature = 2\n",
    "g = partition_function(x,y , temperature)\n",
    "avg = average_path(g)\n",
    "plt.plot(avg[::2], label='T = 2')\n",
    "\n",
    "temperature = 4\n",
    "g = partition_function(x,y , temperature)\n",
    "avg = average_path(g)\n",
    "plt.plot(avg[::2], label='T = 4')\n",
    "\n",
    "temperature = 8\n",
    "g = partition_function(x,y , temperature)\n",
    "avg = average_path(g)\n",
    "plt.plot(avg[::2], label='T = 8')\n",
    "plt.axhline(linewidth=1, linestyle='dashed', color='black')\n",
    "my_xticks = np.array(['Aug 17', 'Oct 17', 'Dec 17', 'Feb 18', 'Apr 18', 'Jun 18', 'Aug 18'])\n",
    "my_x_axis = np.array([0,8,16,24,32,40,48])\n",
    "plt.xticks(my_x_axis, my_xticks)\n",
    "\n",
    "plt.xlabel('t', fontsize=12)\n",
    "plt.ylabel(r'$\\tau(t)$', fontsize=12)\n",
    "\n",
    "plt.title(\"Lead-lag structure XRP Value and SentiWordNet Score\", fontsize=15)\n",
    "plt.legend()\n",
    "#positive tau means Sentiment lags behind BTC ??"
   ]
  }
 ],
 "metadata": {
  "kernelspec": {
   "display_name": "Python 3",
   "language": "python",
   "name": "python3"
  },
  "language_info": {
   "codemirror_mode": {
    "name": "ipython",
    "version": 3
   },
   "file_extension": ".py",
   "mimetype": "text/x-python",
   "name": "python",
   "nbconvert_exporter": "python",
   "pygments_lexer": "ipython3",
   "version": "3.6.6"
  }
 },
 "nbformat": 4,
 "nbformat_minor": 1
}
