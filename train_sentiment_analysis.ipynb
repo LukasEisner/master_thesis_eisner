{
 "cells": [
  {
   "cell_type": "code",
   "execution_count": null,
   "metadata": {},
   "outputs": [],
   "source": [
    "%load_ext autoreload\n",
    "%autoreload 2\n",
    "%matplotlib inline"
   ]
  },
  {
   "cell_type": "code",
   "execution_count": 1,
   "metadata": {},
   "outputs": [
    {
     "name": "stderr",
     "output_type": "stream",
     "text": [
      "Using TensorFlow backend.\n"
     ]
    }
   ],
   "source": [
    "import numpy as np\n",
    "import pandas as pd\n",
    "\n",
    "from functions.load_data import load_labelled_data\n",
    "from functions.preprocessing import preprocess_tweets, concat_tweet_files\n",
    "from functions.tokenizer import create_keras_tokenizer, apply_keras_tokenizer, save_model_and_tokenizer, load_model_and_tokenizer\n",
    "from functions.models import train_rf, confusion_matrix\n",
    "from functions.data_modification import aggregate_sentiment\n",
    "from functions.apply_models import apply_model\n"
   ]
  },
  {
   "cell_type": "code",
   "execution_count": null,
   "metadata": {},
   "outputs": [],
   "source": [
    "# Load and preprocess labelled tweets\n",
    "df_tweets = load_labelled_data('data/sentiment_data_1500_manual.csv')\n",
    "df_tweets = preprocess_tweets(df_tweets)"
   ]
  },
  {
   "cell_type": "code",
   "execution_count": null,
   "metadata": {},
   "outputs": [],
   "source": [
    "# Create and apply tokenizer on labelled tweets\n",
    "maxlen, tokenizer = create_keras_tokenizer(df_tweets)\n",
    "tokenized_tweets = apply_keras_tokenizer(df_tweets, tokenizer, maxlen)"
   ]
  },
  {
   "cell_type": "code",
   "execution_count": null,
   "metadata": {},
   "outputs": [],
   "source": [
    "# Train a randomforest model on the labelled tweets\n",
    "acc, forest_mod, x_train, x_test, y_train, y_test = train_rf(df_tweets, tokenized_tweets, test_size=0.25, n_estimators=1000)"
   ]
  },
  {
   "cell_type": "code",
   "execution_count": null,
   "metadata": {},
   "outputs": [],
   "source": [
    "# Save the model and tokenizer to /models_and_tokenizer/\n",
    "save_model_and_tokenizer('models_and_tokenizers/randomforest.sav', 'models_and_tokenizers/tokenizer_1500_man.sav', mod, tokenizer)"
   ]
  },
  {
   "cell_type": "code",
   "execution_count": null,
   "metadata": {
    "scrolled": true
   },
   "outputs": [],
   "source": [
    "# Create confusion matrix\n",
    "my_pred = forest_mod.predict(x_test)\n",
    "my_ground_truth = y_test.values\n",
    "\n",
    "conf_mat = confusion_matrix(my_pred, my_ground_truth, 3)\n",
    "\n",
    "\n",
    "#           Pred\n",
    "#         A  B  C\n",
    "# L    A aa ab ac  \n",
    "# a    B ba bb bc\n",
    "# b    C ca cb cc\n",
    "# \n",
    "# Seen from class A:\n",
    "# class A: - aa:       True Positives\n",
    "#          - ab + ac : False Negatives\n",
    "#          - ba + ca : False Positives\n",
    "#          - bb + cc:  True Negative"
   ]
  },
  {
   "cell_type": "code",
   "execution_count": null,
   "metadata": {},
   "outputs": [],
   "source": [
    "# Test the spread\n",
    "unique, counts = np.unique(my_pred, return_counts=True)\n",
    "unique2, counts2 = np.unique(my_ground_truth, return_counts=True)\n",
    "\n",
    "print('Prediction: ', unique, counts)\n",
    "print('Ground Truth: ', unique2, counts2)"
   ]
  },
  {
   "cell_type": "code",
   "execution_count": null,
   "metadata": {},
   "outputs": [],
   "source": []
  },
  {
   "cell_type": "code",
   "execution_count": null,
   "metadata": {},
   "outputs": [],
   "source": [
    "# In case you need to reload the model and tokenizer from /models_and_tokenizer/\n",
    "my_model, my_tokenizer = load_model_and_tokenizer('models_and_tokenizers/randomforest.sav', 'models_and_tokenizers/tokenizer_900_man.sav')"
   ]
  }
 ],
 "metadata": {
  "kernelspec": {
   "display_name": "Python (Sentiment Env)",
   "language": "python",
   "name": "sentiment_env"
  },
  "language_info": {
   "codemirror_mode": {
    "name": "ipython",
    "version": 3
   },
   "file_extension": ".py",
   "mimetype": "text/x-python",
   "name": "python",
   "nbconvert_exporter": "python",
   "pygments_lexer": "ipython3",
   "version": "3.6.6"
  }
 },
 "nbformat": 4,
 "nbformat_minor": 2
}
