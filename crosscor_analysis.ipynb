{
 "cells": [
  {
   "cell_type": "code",
   "execution_count": null,
   "metadata": {},
   "outputs": [],
   "source": [
    "%load_ext autoreload\n",
    "%autoreload 2\n",
    "%matplotlib inline"
   ]
  },
  {
   "cell_type": "code",
   "execution_count": 1,
   "metadata": {},
   "outputs": [],
   "source": [
    "import numpy as np\n",
    "import pandas as pd\n",
    "import matplotlib.pyplot as plot\n",
    "import scipy.stats as ss\n",
    "import seaborn as sns\n",
    "\n",
    "from functions.load_data import load_financial_data, load_sentiment_data\n",
    "from functions.data_analysis import df_derived_by_shift\n",
    "from functions.preprocessing import merge_sentiment_financials\n",
    "from statsmodels.tsa.stattools import adfuller\n",
    "from statsmodels.tsa.vector_ar.vecm import coint_johansen\n",
    "from statsmodels.graphics.tsaplots import plot_acf\n",
    "from statsmodels.graphics.tsaplots import plot_pacf\n",
    "from scipy.stats import linregress\n"
   ]
  },
  {
   "cell_type": "code",
   "execution_count": null,
   "metadata": {},
   "outputs": [],
   "source": [
    "# Load Data\n",
    "df_financials = load_financial_data(filepath = r'C:\\Users\\lukas\\Dropbox\\STUDIUM\\Python\\master_thesis\\data\\top20_aggre_price_reduced.csv', start_date = '2017-07-28', end_date = '2018-07-27', tickers = 'BTC')\n",
    "df_sentiment_aggr = load_sentiment_data(filepath = 'C:/Users/lukas/Dropbox/STUDIUM/Python/master_thesis/data/aggregated_tweets/BTC_sentiment_aggr_12h_shifted.csv', start_date = '2017-07-28', end_date = '2018-07-27')\n",
    "\n",
    "# Aggregate financials to fit sentiment frequency\n",
    "df_financials_aggr = df_financials[::12]\n",
    "\n",
    "# Merge the data\n",
    "df_merged = merge_sentiment_financials(df_financials_aggr, df_sentiment_aggr)"
   ]
  },
  {
   "cell_type": "code",
   "execution_count": null,
   "metadata": {},
   "outputs": [],
   "source": [
    "# Load Shorter Timeframe jan-apr\n",
    "df_financials = load_financial_data(filepath = r'C:\\Users\\lukas\\Dropbox\\STUDIUM\\Python\\master_thesis\\data\\top20_aggre_price_reduced.csv', start_date = '2018-01-28', end_date = '2018-04-27', tickers = 'BTC')\n",
    "df_sentiment_aggr = load_sentiment_data(filepath = 'C:/Users/lukas/Dropbox/STUDIUM/Python/master_thesis/data/aggregated_tweets/BTC_sentiment_aggr_6h_shifted.csv', start_date = '2018-01-28', end_date = '2018-04-27')\n",
    "\n",
    "# Aggregate financials to fit sentiment frequency\n",
    "df_financials_aggr = df_financials[::6]\n",
    "\n",
    "# Merge the data\n",
    "df_merged = merge_sentiment_financials(df_financials_aggr, df_sentiment_aggr)"
   ]
  },
  {
   "cell_type": "code",
   "execution_count": null,
   "metadata": {},
   "outputs": [],
   "source": [
    "# Load Shorter Timeframe Oct-Dez\n",
    "df_financials = load_financial_data(filepath = r'C:\\Users\\lukas\\Dropbox\\STUDIUM\\Python\\master_thesis\\data\\top20_aggre_price_reduced.csv', start_date = '2017-10-01', end_date = '2018-01-01', tickers = 'BTC')\n",
    "df_sentiment_aggr = load_sentiment_data(filepath = 'C:/Users/lukas/Dropbox/STUDIUM/Python/master_thesis/data/aggregated_tweets/BTC_sentiment_aggr_6h_shifted.csv', start_date = '2017-10-01', end_date = '2018-01-01')\n",
    "\n",
    "# Aggregate financials to fit sentiment frequency\n",
    "df_financials_aggr = df_financials[::6]\n",
    "\n",
    "# Merge the data\n",
    "df_merged = merge_sentiment_financials(df_financials_aggr, df_sentiment_aggr)"
   ]
  },
  {
   "cell_type": "code",
   "execution_count": null,
   "metadata": {},
   "outputs": [],
   "source": [
    "# Get different values for BTC (log, diff, combination)\n",
    "\n",
    "# Diff\n",
    "df_merged['BTC_diff'] = df_merged['BTC']-df_merged['BTC'].shift()\n",
    "\n",
    "\n",
    "# Log\n",
    "df_merged['BTC_log']= np.log(df_merged['BTC'])\n",
    "\n",
    "# Diff of log\n",
    "df_merged['BTC_log_diff'] = df_merged['BTC_log']-df_merged['BTC_log'].shift()\n",
    "\n",
    "# Drop empty rows whaich were created through diff\n",
    "df_merged.dropna(inplace = True)\n",
    "\n",
    "# Make financial data binary (rise: 1/not rise: 0)\n",
    "df_merged['BTC_bin'] = np.sign(df_merged['BTC_diff'])\n",
    "df_merged['BTC_bin'] = df_merged['BTC_bin'].replace(to_replace = -1, value = 0)\n"
   ]
  },
  {
   "cell_type": "code",
   "execution_count": null,
   "metadata": {},
   "outputs": [],
   "source": [
    "#Fill missing values with the ffill method\n",
    "df_merged['amount_of_tweets'] = df_merged['amount_of_tweets'].replace(to_replace=0, method = 'ffill')\n",
    "df_merged['sentiment'] = df_merged['sentiment'].replace(to_replace=0, method = 'ffill')\n",
    "df_merged['weighted_sentiment'] = df_merged['weighted_sentiment'].replace(to_replace=0, method = 'ffill')\n",
    "df_merged['sentiwordnet'] = df_merged['sentiwordnet'].replace(to_replace=0, method = 'ffill')\n",
    "df_merged['weighted_sentiwordnet'] = df_merged['weighted_sentiwordnet'].replace(to_replace=0, method = 'ffill')\n",
    "\n",
    "# Create rolling means\n",
    "df_merged['sentiment_rm'] = df_merged['sentiment'].rolling(24, min_periods=24).mean()\n",
    "df_merged['amount_of_tweets_rm'] = df_merged['amount_of_tweets'].rolling(24, min_periods=24).mean()\n",
    "df_merged['weighted_sentiment_rm'] = df_merged['weighted_sentiment'].rolling(24, min_periods=24).mean()\n",
    "df_merged['sentiwordnet_rm'] = df_merged['sentiwordnet'].rolling(24, min_periods=24).mean()\n",
    "df_merged['weighted_sentiwordnet_rm'] = df_merged['weighted_sentiwordnet'].rolling(24, min_periods=24).mean()\n",
    "\n",
    "df_merged.dropna(inplace = True)\n",
    "\n",
    "df_merged['sentiment_diff'] =df_merged['sentiment']-df_merged['sentiment'].shift()\n",
    "df_merged['sentiwordnet_diff'] =df_merged['sentiwordnet']-df_merged['sentiwordnet'].shift()\n",
    "\n",
    "\n",
    "df_merged['weighted_sentiment_rm_diff'] =df_merged['weighted_sentiment_rm']-df_merged['weighted_sentiment_rm'].shift()\n",
    "df_merged['sentiment_rm_diff'] =df_merged['sentiment_rm']-df_merged['sentiment_rm'].shift()\n",
    "df_merged['amount_of_tweets_rm_diff'] = df_merged['amount_of_tweets_rm'] -df_merged['amount_of_tweets_rm'].shift()\n",
    "df_merged['sentiwordnet_rm_diff'] =df_merged['sentiwordnet_rm']-df_merged['sentiwordnet_rm'].shift()\n",
    "df_merged['weighted_sentiwordnet_rm_diff'] =df_merged['weighted_sentiwordnet_rm']-df_merged['weighted_sentiwordnet_rm'].shift()\n",
    "df_merged.dropna(inplace = True)"
   ]
  },
  {
   "cell_type": "code",
   "execution_count": null,
   "metadata": {},
   "outputs": [],
   "source": [
    "# Delete last row of df because it is not a full 12h\n",
    "df_merged.drop(df_merged.tail(1).index, inplace = True)"
   ]
  },
  {
   "cell_type": "code",
   "execution_count": null,
   "metadata": {},
   "outputs": [],
   "source": [
    "# Chose which two time-series to compare\n",
    "df_tolag = df_merged[['weighted_sentiwordnet_rm_diff', 'BTC_diff']]"
   ]
  },
  {
   "cell_type": "code",
   "execution_count": null,
   "metadata": {},
   "outputs": [],
   "source": [
    "# Create lagged timeseries\n",
    "df_lagged = df_derived_by_shift(df_tolag, 2)\n",
    "df_lagged =df_lagged.dropna()"
   ]
  },
  {
   "cell_type": "code",
   "execution_count": null,
   "metadata": {},
   "outputs": [],
   "source": [
    "# Calculate Spearman Crosscorrelation and its P Value\n",
    "corr, pval = ss.spearmanr(df_lagged)"
   ]
  },
  {
   "cell_type": "code",
   "execution_count": null,
   "metadata": {},
   "outputs": [],
   "source": [
    "# Create Colormap of Crosscorrelations for the p-value\n",
    "colormap = plt.cm.RdBu\n",
    "plt.figure(figsize=(15,10))\n",
    "plt.title(u'Pvalues of Crosscorrelation of sentiwordnet_rm_diff and BTC_log_diff for up to 36 hours of lag (6h aggr)', y=1.05, size=16)\n",
    "\n",
    "mask = np.zeros_like(pval)\n",
    "mask[np.triu_indices_from(mask)] = True\n",
    "\n",
    "svm = sns.heatmap(pval, mask=mask, linewidths=0.1,vmax=1.0, \n",
    "            square=True, cmap=colormap, linecolor='white', annot=True, xticklabels=column_names, yticklabels=column_names)"
   ]
  },
  {
   "cell_type": "code",
   "execution_count": null,
   "metadata": {},
   "outputs": [],
   "source": [
    "# Create Colormap of Crosscorrelations for the crosscorr coeff\n",
    "colormap = plt.cm.RdBu\n",
    "plt.figure(figsize=(15,10))\n",
    "plt.title(u'Pvalues of Crosscorrelation of sentiwordnet_rm_diff and BTC_log_diff for up to 36 hours of lag (6h aggr)', y=1.05, size=16)\n",
    "\n",
    "mask = np.zeros_like(pval)\n",
    "mask[np.triu_indices_from(mask)] = True\n",
    "\n",
    "svm = sns.heatmap(corr, mask=mask, linewidths=0.1,vmax=1.0, \n",
    "            square=True, cmap=colormap, linecolor='white', annot=True, xticklabels=column_names, yticklabels=column_names)"
   ]
  },
  {
   "cell_type": "code",
   "execution_count": null,
   "metadata": {},
   "outputs": [],
   "source": [
    "#All in one Approach: For chosen Month and Monthspan, create all Heatmaps"
   ]
  },
  {
   "cell_type": "code",
   "execution_count": null,
   "metadata": {},
   "outputs": [],
   "source": [
    "start_date = ['2017-08-01','2017-09-01','2017-10-01','2017-11-01','2017-12-01','2018-01-01','2018-02-01','2018-03-01','2018-04-01','2018-05-01','2018-06-01','2018-07-01']\n",
    "end_date = ['2017-08-31','2017-09-30','2017-10-31','2017-11-30','2017-12-31','2018-01-31','2018-02-28','2018-03-31','2018-04-30','2018-05-31','2018-06-30','2018-07-27']\n",
    "\n",
    "#parameters\n",
    "#i: Wich month (i=0: august 2017 until i=11: july 2018\n",
    "#n: Timespan in months\n",
    "i=0\n",
    "n=12\n",
    "\n",
    "\n",
    "\n",
    "#1.8. bis 27.7.\n",
    "# Load Shorter Timeframe jan-apr\n",
    "df_financials = load_financial_data(filepath = r'C:\\Users\\lukas\\Dropbox\\STUDIUM\\Python\\master_thesis\\data\\top20_aggre_price_reduced.csv', start_date = start_date[i], end_date = end_date[i+n-1], tickers = 'BTC')\n",
    "df_sentiment_aggr = load_sentiment_data(filepath = 'C:/Users/lukas/Dropbox/STUDIUM/Python/master_thesis/data/aggregated_tweets/BTC_sentiment_aggr_6h_shifted.csv', start_date = start_date[i], end_date = end_date[i+n-1])\n",
    "\n",
    "# Aggregate financials to fit sentiment frequency\n",
    "df_financials_aggr = df_financials[::6]\n",
    "\n",
    "# Merge the data\n",
    "df_merged = merge_sentiment_financials(df_financials_aggr, df_sentiment_aggr)\n",
    "\n",
    "# Get different values for BTC (log, diff, combination)\n",
    "\n",
    "# Diff\n",
    "df_merged['BTC_diff'] = df_merged['BTC']-df_merged['BTC'].shift()\n",
    "\n",
    "\n",
    "# Log\n",
    "df_merged['BTC_log']= np.log(df_merged['BTC'])\n",
    "\n",
    "# Diff of log\n",
    "df_merged['BTC_log_diff'] = df_merged['BTC_log']-df_merged['BTC_log'].shift()\n",
    "\n",
    "# Drop empty rows whaich were created through diff\n",
    "df_merged.dropna(inplace = True)\n",
    "\n",
    "# Make financial data binary (rise: 1/not rise: 0)\n",
    "df_merged['BTC_bin'] = np.sign(df_merged['BTC_diff'])\n",
    "df_merged['BTC_bin'] = df_merged['BTC_bin'].replace(to_replace = -1, value = 0)\n",
    "\n",
    "#Fill missing values with the ffill method\n",
    "df_merged['amount_of_tweets'] = df_merged['amount_of_tweets'].replace(to_replace=0, method = 'ffill')\n",
    "df_merged['sentiment'] = df_merged['sentiment'].replace(to_replace=0, method = 'ffill')\n",
    "df_merged['weighted_sentiment'] = df_merged['weighted_sentiment'].replace(to_replace=0, method = 'ffill')\n",
    "df_merged['sentiwordnet'] = df_merged['sentiwordnet'].replace(to_replace=0, method = 'ffill')\n",
    "df_merged['weighted_sentiwordnet'] = df_merged['weighted_sentiwordnet'].replace(to_replace=0, method = 'ffill')\n",
    "\n",
    "# Create rolling means\n",
    "df_merged['sentiment_rm'] = df_merged['sentiment'].rolling(24, min_periods=24).mean()\n",
    "df_merged['amount_of_tweets_rm'] = df_merged['amount_of_tweets'].rolling(24, min_periods=24).mean()\n",
    "df_merged['weighted_sentiment_rm'] = df_merged['weighted_sentiment'].rolling(24, min_periods=24).mean()\n",
    "df_merged['sentiwordnet_rm'] = df_merged['sentiwordnet'].rolling(24, min_periods=24).mean()\n",
    "df_merged['weighted_sentiwordnet_rm'] = df_merged['weighted_sentiwordnet'].rolling(24, min_periods=24).mean()\n",
    "\n",
    "df_merged.dropna(inplace = True)\n",
    "\n",
    "df_merged['sentiment_diff'] =df_merged['sentiment']-df_merged['sentiment'].shift()\n",
    "df_merged['sentiwordnet_diff'] =df_merged['sentiwordnet']-df_merged['sentiwordnet'].shift()\n",
    "\n",
    "\n",
    "df_merged['weighted_sentiment_rm_diff'] =df_merged['weighted_sentiment_rm']-df_merged['weighted_sentiment_rm'].shift()\n",
    "df_merged['sentiment_rm_diff'] =df_merged['sentiment_rm']-df_merged['sentiment_rm'].shift()\n",
    "df_merged['amount_of_tweets_rm_diff'] = df_merged['amount_of_tweets_rm'] -df_merged['amount_of_tweets_rm'].shift()\n",
    "df_merged['sentiwordnet_rm_diff'] =df_merged['sentiwordnet_rm']-df_merged['sentiwordnet_rm'].shift()\n",
    "df_merged['weighted_sentiwordnet_rm_diff'] =df_merged['weighted_sentiwordnet_rm']-df_merged['weighted_sentiwordnet_rm'].shift()\n",
    "df_merged.dropna(inplace = True)\n",
    "\n",
    "# Delete last row of df because it is not a full 12h\n",
    "df_merged.drop(df_merged.tail(1).index, inplace = True)\n",
    "\n",
    "df_tolag = df_merged[['weighted_sentiwordnet_rm_diff', 'BTC_diff']]\n",
    "\n",
    "df_lagged = df_derived_by_shift(df_tolag, 2)\n",
    "df_lagged =df_lagged.dropna()\n",
    "\n",
    "corr, pval = ss.spearmanr(df_lagged)\n",
    "\n",
    "colormap = plt.cm.RdBu\n",
    "plt.figure(figsize=(15,10))\n",
    "title = u'Pvalues of Crosscorrelation for startmonth i=' + str(i) + ' and endmonth i=' + str(i+n-1)\n",
    "plt.title(title, y=1.05, size=16)\n",
    "\n",
    "mask = np.zeros_like(pval)\n",
    "mask[np.triu_indices_from(mask)] = True\n",
    "\n",
    "svm = sns.heatmap(pval, mask=mask, linewidths=0.1,vmax=1.0, \n",
    "            square=True, cmap=colormap, linecolor='white', annot=True, xticklabels=column_names, yticklabels=column_names)\n",
    "\n"
   ]
  }
 ],
 "metadata": {
  "kernelspec": {
   "display_name": "Python (Sentiment Env)",
   "language": "python",
   "name": "sentiment_env"
  },
  "language_info": {
   "codemirror_mode": {
    "name": "ipython",
    "version": 3
   },
   "file_extension": ".py",
   "mimetype": "text/x-python",
   "name": "python",
   "nbconvert_exporter": "python",
   "pygments_lexer": "ipython3",
   "version": "3.6.6"
  }
 },
 "nbformat": 4,
 "nbformat_minor": 2
}
