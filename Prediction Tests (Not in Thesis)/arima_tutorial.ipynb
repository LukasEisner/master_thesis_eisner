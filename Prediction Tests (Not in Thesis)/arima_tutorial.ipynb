{
 "cells": [
  {
   "cell_type": "code",
   "execution_count": null,
   "metadata": {},
   "outputs": [],
   "source": [
    "## UNFINISHED ##"
   ]
  },
  {
   "cell_type": "code",
   "execution_count": null,
   "metadata": {},
   "outputs": [],
   "source": [
    "import pandas as pd\n",
    "import numpy as np\n",
    "import pylab as p\n",
    "import matplotlib.pyplot as plot\n",
    "from collections import Counter\n",
    "from load_data import load_financial_data, load_sentiment_data\n",
    "import re\n",
    "\n",
    "#importing packages for the prediction of time-series data\n",
    "import statsmodels.api as sm\n",
    "import statsmodels.tsa.api as smt\n",
    "import statsmodels.formula.api as smf\n",
    "from statsmodels.tsa.arima_model import ARIMA\n"
   ]
  },
  {
   "cell_type": "code",
   "execution_count": null,
   "metadata": {},
   "outputs": [],
   "source": [
    "# Load the data for Bitcoin\n",
    "df_financials = load_financial_data(filepath = 'data/top20_aggre_price_reduced.csv', start_date = '2017-07-28', end_date = '2018-07-27', tickers = 'BTC')\n",
    "#df_financials = aggregate_financials(df_financials)"
   ]
  },
  {
   "cell_type": "code",
   "execution_count": null,
   "metadata": {},
   "outputs": [],
   "source": [
    "# Plot the Bitcoin prices to check for Stationarity\n",
    "plot.plot(df_financials)\n",
    "plot.xlabel('Date', fontsize=12)\n",
    "plot.ylabel('Price in USD', fontsize=12)\n",
    "plot.title(\"Price distribution of bitcoin\", fontsize=15)\n",
    "plot.show()"
   ]
  },
  {
   "cell_type": "code",
   "execution_count": null,
   "metadata": {},
   "outputs": [],
   "source": [
    "# Test financial values for random walk -> can not reject 0 hypothesis that it is a random walk\n",
    "from statsmodels.tsa.stattools import adfuller\n",
    "\n",
    "# Run the ADF test on the price series and print out the results\n",
    "results = adfuller(df_financials)\n",
    "print(results)\n",
    "\n",
    "# Just print out the p-value\n",
    "print('The p-value of the test on prices is: ' + str(results[1]))"
   ]
  },
  {
   "cell_type": "code",
   "execution_count": null,
   "metadata": {},
   "outputs": [],
   "source": [
    "# Test financial returns for random walk -> can reject 0 hypothesis that it is a random walk\n",
    "from statsmodels.tsa.stattools import adfuller\n",
    "\n",
    "# Create a DataFrame of AMZN returns\n",
    "df_financials_ret = df_financials.pct_change()\n",
    "\n",
    "# Eliminate the NaN in the first row of returns\n",
    "df_financials_ret = df_financials_ret.dropna()\n",
    "\n",
    "# Run the ADF test on the return series and print out the p-value\n",
    "results = adfuller(df_financials_ret)\n",
    "print('The p-value of the test on returns is: ' + str(results[1]))"
   ]
  },
  {
   "cell_type": "code",
   "execution_count": null,
   "metadata": {},
   "outputs": [],
   "source": [
    "# Augmented Dicky Fuller Test for Stationarity\n",
    "from statsmodels.tsa.stattools import adfuller\n",
    "\n",
    "def test_stationarity(x):\n",
    "\n",
    "\n",
    "    #Determing rolling statistics\n",
    "    rolmean = x.rolling(window=22,center=False).mean()\n",
    "\n",
    "    rolstd = x.rolling(window=12,center=False).std()\n",
    "    \n",
    "    #Plot rolling statistics:\n",
    "    orig = plot.plot(x, color='blue',label='Original')\n",
    "    mean = plot.plot(rolmean, color='red', label='Rolling Mean')\n",
    "    std = plot.plot(rolstd, color='black', label = 'Rolling Std')\n",
    "    plot.legend(loc='best')\n",
    "    plot.title('Rolling Mean & Standard Deviation')\n",
    "    plot.show(block=False)\n",
    "    \n",
    "    #Perform Dickey Fuller test    \n",
    "    result=adfuller(x)\n",
    "    print('ADF Stastistic: %f'%result[0])\n",
    "    print('p-value: %f'%result[1])\n",
    "    pvalue=result[1]\n",
    "    for key,value in result[4].items():\n",
    "         if result[0]>value:\n",
    "            print(\"The graph is non stationery\")\n",
    "            break\n",
    "         else:\n",
    "            print(\"The graph is stationery\")\n",
    "            break;\n",
    "    print('Critical values:')\n",
    "    for key,value in result[4].items():\n",
    "        print('\\t%s: %.3f ' % (key, value))\n"
   ]
  },
  {
   "cell_type": "code",
   "execution_count": null,
   "metadata": {},
   "outputs": [],
   "source": [
    "# Log transform the series to unskew data\n",
    "ts_log = np.log(df_financials)\n",
    "plot.plot(ts_log, color = 'green')\n",
    "plot.show()\n",
    "\n",
    "test_stationarity(ts_log)"
   ]
  },
  {
   "cell_type": "code",
   "execution_count": null,
   "metadata": {},
   "outputs": [],
   "source": [
    "# Differnciating\n",
    "ts_log_diff = ts_log - ts_log.shift()\n",
    "plot.plot(ts_log_diff)\n",
    "plot.show()\n",
    "\n",
    "ts_log_diff.dropna(inplace = True)\n",
    "test_stationarity(ts_log_diff)"
   ]
  },
  {
   "cell_type": "code",
   "execution_count": null,
   "metadata": {},
   "outputs": [],
   "source": [
    "# Autocorrelation\n",
    "from pandas import Series\n",
    "from matplotlib import pyplot\n",
    "from statsmodels.graphics.tsaplots import plot_acf\n",
    "series = ts_log_diff\n",
    "plot_acf(series, lags=50)\n",
    "pyplot.show()"
   ]
  },
  {
   "cell_type": "code",
   "execution_count": null,
   "metadata": {},
   "outputs": [],
   "source": [
    "# Partial Autocorrelation\n",
    "from pandas import Series\n",
    "from matplotlib import pyplot\n",
    "from statsmodels.graphics.tsaplots import plot_pacf\n",
    "series = ts_log_diff\n",
    "plot_pacf(series, lags=50)\n",
    "pyplot.show()"
   ]
  },
  {
   "cell_type": "code",
   "execution_count": null,
   "metadata": {},
   "outputs": [],
   "source": [
    "# Use Auto Regressive model with lag = 4 \n",
    "# follow lag\n",
    "model = ARIMA(ts_log, order=(4,1,0))  \n",
    "results_ARIMA = model.fit(disp=-1)  \n",
    "plot.plot(ts_log_diff)\n",
    "plot.plot(results_ARIMA.fittedvalues, color='red')\n",
    "plot.title('RSS: %.7f'% sum((results_ARIMA.fittedvalues-ts_log_diff)**2))\n",
    "plot.show()"
   ]
  },
  {
   "cell_type": "code",
   "execution_count": null,
   "metadata": {},
   "outputs": [],
   "source": [
    "# Use Moving Average Model\n",
    "model = ARIMA(ts_log, order=(0,1,1))  \n",
    "results_MA = model.fit(disp=-1)  \n",
    "plot.plot(ts_log_diff)\n",
    "plot.plot(results_MA.fittedvalues, color='red')\n",
    "plot.title('RSS: %.7f'% sum((results_MA.fittedvalues-ts_log_diff)**2))\n",
    "plot.show()"
   ]
  },
  {
   "cell_type": "code",
   "execution_count": null,
   "metadata": {},
   "outputs": [],
   "source": [
    "# Using full ARIMA\n",
    "from statsmodels.tsa.arima_model import ARIMA\n",
    "model = ARIMA(ts_log, order=(2,1,0))  \n",
    "results_ARIMA = model.fit(disp=-1)  \n",
    "plot.plot(ts_log_diff)\n",
    "plot.plot(results_ARIMA.fittedvalues, color='red')\n",
    "plot.title('RSS: %.7f'% sum((results_ARIMA.fittedvalues-ts_log_diff)**2))\n",
    "plot.show()"
   ]
  },
  {
   "cell_type": "code",
   "execution_count": null,
   "metadata": {},
   "outputs": [],
   "source": [
    "# Use AR model (it performed best)\n",
    "\n",
    "size = int(len(ts_log)*0.9)\n",
    "# Divide into train and test\n",
    "train_arima, test_arima = ts_log[0:size], ts_log[size:len(ts_log)]\n",
    "history = [x for x in train_arima]\n",
    "evaluation = pd.DataFrame(index=range(0,len(test_arima)), columns=[['pred', 'exp', 'error %']])\n",
    "predictions = list()\n",
    "originals = list()\n",
    "error_list = list()\n",
    "\n",
    "\n",
    "\n",
    "print('Printing Predicted vs Expected Values...')\n",
    "print('\\n')\n",
    "# We go over each value in the test set and then apply ARIMA model and calculate the predicted value. We have the expected value in the test set therefore we calculate the error between predicted and expected value \n",
    "for t in range(len(test_arima)):\n",
    "    model = ARIMA(history, order=(4, 1, 0))\n",
    "    model_fit = model.fit(disp=-1)\n",
    "    \n",
    "    output = model_fit.forecast()\n",
    "    \n",
    "    pred_value = output[0]\n",
    "    \n",
    "        \n",
    "    original_value = test_arima[t]\n",
    "    history.append(original_value)\n",
    "    \n",
    "    pred_value = np.exp(pred_value)\n",
    "    original_value = np.exp(original_value)\n",
    "    \n",
    "    # Calculating the error\n",
    "    error = ((abs(pred_value - original_value)) / original_value) * 100\n",
    "    \n",
    "    # Lists for plots\n",
    "    error_list.append(error)\n",
    "    predictions.append(float(pred_value))\n",
    "    originals.append(float(original_value))\n",
    "    \n",
    "    # Data Frame for output table\n",
    "    evaluation.iloc[t][0] = pred_value\n",
    "    evaluation.iloc[t][1] = original_value\n",
    "    evaluation.iloc[t][2] = error\n",
    "\n",
    "    print('predicted = %f,   expected = %f,   error = %f ' % (pred_value, original_value, error), '%')\n",
    "    \n",
    "\n",
    "    \n"
   ]
  },
  {
   "cell_type": "code",
   "execution_count": null,
   "metadata": {},
   "outputs": [],
   "source": [
    "model_fit.summary()"
   ]
  },
  {
   "cell_type": "code",
   "execution_count": null,
   "metadata": {},
   "outputs": [],
   "source": [
    "evaluation.to_csv('evaluation_ARIMA_4_1_0_10_percent_test.csv')"
   ]
  },
  {
   "cell_type": "code",
   "execution_count": null,
   "metadata": {},
   "outputs": [],
   "source": [
    "# After iterating over whole test set the overall mean error is calculated.   \n",
    "print('\\n Mean Error in Predicting Test Case Articles : %f ' % (sum(error_list)/float(len(error_list))), '%')\n",
    "plot.figure(figsize=(8, 6))\n",
    "test_day = [t for t in range(len(test_arima))]\n",
    "labels={'Orginal','Predicted'}\n",
    "plot.plot(test_day, predictions, color= 'green')\n",
    "plot.plot(test_day, originals, color = 'orange')\n",
    "plot.title('Expected Vs Predicted Univariat AR')\n",
    "plot.xlabel('Hours')\n",
    "plot.ylabel('Closing Price')\n",
    "plot.legend(labels)\n",
    "plot.show()"
   ]
  },
  {
   "cell_type": "code",
   "execution_count": null,
   "metadata": {},
   "outputs": [],
   "source": []
  }
 ],
 "metadata": {
  "kernelspec": {
   "display_name": "Python (Sentiment Env)",
   "language": "python",
   "name": "sentiment_env"
  },
  "language_info": {
   "codemirror_mode": {
    "name": "ipython",
    "version": 3
   },
   "file_extension": ".py",
   "mimetype": "text/x-python",
   "name": "python",
   "nbconvert_exporter": "python",
   "pygments_lexer": "ipython3",
   "version": "3.6.6"
  }
 },
 "nbformat": 4,
 "nbformat_minor": 2
}
