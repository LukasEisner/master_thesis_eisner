{
 "cells": [
  {
   "cell_type": "code",
   "execution_count": 12,
   "metadata": {},
   "outputs": [],
   "source": [
    "import pandas as pd\n",
    "import numpy as np\n",
    "from load_data import load_financial_data, load_sentiment_data\n",
    "from preprocessing import calculate_financial_change, aggregate_sentiment, aggregate_financials, merge_sentiment_financials\n",
    "from sklearn.metrics import mean_squared_error"
   ]
  },
  {
   "cell_type": "code",
   "execution_count": 2,
   "metadata": {},
   "outputs": [],
   "source": [
    "#tickers = ['ADA', 'BCH', 'BCN', 'BNB', 'BTC', 'DASH', 'EOS', 'ETC', 'ETH', 'ICX', 'IOT', 'LTC', 'NEO', 'QTUM',\n",
    "#               'TRON', 'VEN', 'XEM', 'XLM', 'XMR', 'XRP', 'ZEC']\n",
    "\n",
    "tickers = 'BTC'"
   ]
  },
  {
   "cell_type": "code",
   "execution_count": 3,
   "metadata": {},
   "outputs": [],
   "source": [
    "df_financials = load_financial_data(filepath = 'data/top20_aggre_price_reduced.csv', start_date = '2017-07-28', end_date = '2018-07-27', tickers = tickers)\n",
    "df_sentiment = load_sentiment_data(filepath = 'data/tweet_amounts_and_sentiment_BTC.csv', start_date = '2017-07-28', end_date = '2018-07-27')\n"
   ]
  },
  {
   "cell_type": "code",
   "execution_count": 4,
   "metadata": {},
   "outputs": [],
   "source": [
    "#aggr_df_sentiment = aggregate_sentiment(df_sentiment)\n",
    "#aggr_df_financials = aggregate_financials(df_financials)\n",
    "#df_merged = merge_sentiment_financials(aggr_df_sentiment, aggr_df_financials)\n",
    "df_merged = merge_sentiment_financials(df_sentiment, df_financials)\n",
    "df_merged = df_merged.drop('BTC', axis=1)"
   ]
  },
  {
   "cell_type": "code",
   "execution_count": 5,
   "metadata": {},
   "outputs": [
    {
     "data": {
      "text/plain": [
       "array([  7.71752268e-02,   3.72368291e-02,   2.07969681e-05])"
      ]
     },
     "execution_count": 5,
     "metadata": {},
     "output_type": "execute_result"
    }
   ],
   "source": [
    "#checking stationarity HOW TO INTERPRET\n",
    "from statsmodels.tsa.vector_ar.vecm import coint_johansen\n",
    "coint_johansen(df_merged,-1,1).eig"
   ]
  },
  {
   "cell_type": "code",
   "execution_count": 6,
   "metadata": {},
   "outputs": [],
   "source": [
    "#creating the train and validation set\n",
    "train = df_merged[:int(0.9*(len(df_merged)))]\n",
    "valid = df_merged[int(0.9*(len(df_merged))):]\n",
    "\n",
    "#fit the model\n",
    "from statsmodels.tsa.vector_ar.var_model import VAR\n",
    "\n",
    "model = VAR(endog=train)\n",
    "model_fit = model.fit()\n",
    "\n",
    "# make prediction on validation\n",
    "prediction = model_fit.forecast(model_fit.y, steps=len(valid))"
   ]
  },
  {
   "cell_type": "code",
   "execution_count": 13,
   "metadata": {},
   "outputs": [
    {
     "name": "stdout",
     "output_type": "stream",
     "text": [
      "rmse value for amount_of_tweets is :  58.2974622814\n",
      "rmse value for average_sentiment is :  0.122456200835\n",
      "rmse value for financial_value is :  666.972437441\n"
     ]
    }
   ],
   "source": [
    "#converting predictions to dataframe\n",
    "cols = df_merged.columns\n",
    "#converting predictions to dataframe\n",
    "pred = pd.DataFrame(index=range(0,len(prediction)), columns=[cols])\n",
    "for j in range(0,3):\n",
    "    for i in range(0, len(prediction)):\n",
    "       pred.iloc[i][j] = prediction[i][j]\n",
    "\n",
    "#check rmse\n",
    "for i in cols:\n",
    "    print('rmse value for', i, 'is : ', np.sqrt(mean_squared_error(pred[i], valid[i])))"
   ]
  },
  {
   "cell_type": "code",
   "execution_count": 14,
   "metadata": {},
   "outputs": [],
   "source": [
    "# Comparing prediction to expected value\n",
    "exp_value = df_merged['financial_value'].tail(len(valid)).reset_index().drop('index', axis = 1)\n",
    "exp_value.columns = ['expected_value']\n",
    "pred = pred.drop(['amount_of_tweets', 'average_sentiment'], axis = 1)\n",
    "pred.columns = ['predicted_value']\n",
    "output = pd.concat([pred, exp_value], axis=1)"
   ]
  },
  {
   "cell_type": "code",
   "execution_count": 15,
   "metadata": {},
   "outputs": [],
   "source": [
    "# calculate error\n",
    "error_list=[]\n",
    "for i in range(len(output.index)):\n",
    "    error = (abs(output.predicted_value[i] - output.expected_value[i])) / output.expected_value[i] * 100\n",
    "    output.at[i, 'error'] = error\n",
    "\n"
   ]
  },
  {
   "cell_type": "code",
   "execution_count": 16,
   "metadata": {},
   "outputs": [
    {
     "name": "stdout",
     "output_type": "stream",
     "text": [
      "[[  1.89682876e+02   5.29390913e-02   8.20399147e+03]]\n"
     ]
    }
   ],
   "source": [
    "#make final predictions\n",
    "model = VAR(endog=df_merged)\n",
    "model_fit = model.fit()\n",
    "yhat = model_fit.forecast(model_fit.y, steps=1)\n",
    "print(yhat)"
   ]
  },
  {
   "cell_type": "code",
   "execution_count": null,
   "metadata": {},
   "outputs": [],
   "source": [
    "output"
   ]
  }
 ],
 "metadata": {
  "kernelspec": {
   "display_name": "Python (Sentiment Env)",
   "language": "python",
   "name": "sentiment_env"
  },
  "language_info": {
   "codemirror_mode": {
    "name": "ipython",
    "version": 3
   },
   "file_extension": ".py",
   "mimetype": "text/x-python",
   "name": "python",
   "nbconvert_exporter": "python",
   "pygments_lexer": "ipython3",
   "version": "3.6.6"
  }
 },
 "nbformat": 4,
 "nbformat_minor": 2
}
