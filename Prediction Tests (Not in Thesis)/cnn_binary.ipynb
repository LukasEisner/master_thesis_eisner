{
 "cells": [
  {
   "cell_type": "code",
   "execution_count": 1,
   "metadata": {},
   "outputs": [],
   "source": [
    "%load_ext autoreload\n",
    "%autoreload 2\n",
    "%matplotlib inline"
   ]
  },
  {
   "cell_type": "code",
   "execution_count": 2,
   "metadata": {},
   "outputs": [
    {
     "name": "stderr",
     "output_type": "stream",
     "text": [
      "Using TensorFlow backend.\n"
     ]
    }
   ],
   "source": [
    "import pandas as pd\n",
    "import numpy as np\n",
    "import matplotlib.pyplot as plot\n",
    "\n",
    "from load_data import load_financial_data, load_sentiment_data\n",
    "from models import confusion_matrix, compute_metrics\n",
    "from preprocessing import merge_sentiment_financials\n",
    "from sklearn.model_selection import train_test_split\n",
    "from sklearn.metrics import accuracy_score\n",
    "\n",
    "from keras.models import Sequential\n",
    "from keras.layers import Dense\n",
    "from keras.layers import Flatten\n",
    "from keras.layers.convolutional import Conv1D\n",
    "from keras.layers.convolutional import MaxPooling1D"
   ]
  },
  {
   "cell_type": "code",
   "execution_count": 3,
   "metadata": {},
   "outputs": [],
   "source": [
    "# Create Logger, Model checkpointing, Live plot etc\n",
    "import keras\n",
    "from keras.callbacks import CSVLogger, EarlyStopping, ModelCheckpoint, ReduceLROnPlateau\n",
    "from keras_tqdm import TQDMNotebookCallback\n",
    "from IPython.display import clear_output\n",
    "\n",
    "model_name = 'randomforest'\n",
    "# create csv logger\n",
    "csv_logger = CSVLogger('models_logs/' + model_name + '.log')\n",
    "\n",
    "# use early stopping\n",
    "early_stopping = EarlyStopping(monitor = 'val_loss',\n",
    "                               min_delta = 0,\n",
    "                               patience = 10,\n",
    "                               verbose = 0,\n",
    "                               mode = 'auto')\n",
    "\n",
    "# we also use model checkpointing\n",
    "filepath = 'models_logs//' + model_name + '.hdf5'\n",
    "checkpointer = ModelCheckpoint(filepath, \n",
    "                               monitor = 'val_loss', \n",
    "                               verbose = 0, \n",
    "                               save_best_only = True, \n",
    "                               mode = 'min')\n",
    "# LR scheduler\n",
    "scheduler = ReduceLROnPlateau(factor = 0.1, patience=3, min_lr = 0.000001, verbose = 1)\n",
    "\n",
    "# fancy progress bar\n",
    "progress_bar = TQDMNotebookCallback(leave_inner = True, leave_outer = True)\n",
    "\n",
    "# function to plot loss and accuracy live\n",
    "class learning_plot(keras.callbacks.Callback):\n",
    "    def on_train_begin(self, logs={}):\n",
    "        self.i = 0\n",
    "        self.x = []\n",
    "        self.losses = []\n",
    "        self.val_losses = []\n",
    "        self.acc = []\n",
    "        self.val_acc = []\n",
    "        self.fig = plot.figure()\n",
    "        \n",
    "        self.logs = []\n",
    "\n",
    "    def on_epoch_end(self, epoch, logs = {}):\n",
    "        \n",
    "        self.logs.append(logs)\n",
    "        self.x.append(self.i)\n",
    "        self.losses.append(logs.get('loss'))\n",
    "        self.val_losses.append(logs.get('val_loss'))\n",
    "        self.acc.append(logs.get('acc'))\n",
    "        self.val_acc.append(logs.get('val_acc'))\n",
    "        self.i += 1\n",
    "        f, (ax1, ax2) = plot.subplots(1, 2, sharex = True)\n",
    "        \n",
    "        clear_output(wait = True)\n",
    "        \n",
    "        #ax1.set_yscale('log')\n",
    "        ax1.plot(self.x, self.losses, label = 'loss')\n",
    "        ax1.plot(self.x, self.val_losses, label = 'val_loss')\n",
    "        ax1.legend()\n",
    "        \n",
    "        ax2.plot(self.x, self.acc, label = 'accuracy')\n",
    "        ax2.plot(self.x, self.val_acc, label = 'validation accuracy')\n",
    "        ax2.legend()\n",
    "        \n",
    "        plot.show();\n",
    "\n",
    "plot_losses = learning_plot()\n",
    "\n",
    "# construct callback list\n",
    "my_callbacks = [csv_logger, early_stopping, checkpointer, scheduler, progress_bar, plot_losses]"
   ]
  },
  {
   "cell_type": "code",
   "execution_count": 4,
   "metadata": {},
   "outputs": [],
   "source": [
    "# split a multivariate sequence into samples\n",
    "def split_sequences(sequences, n_steps):\n",
    "    X, y = list(), list()\n",
    "    for i in range(len(sequences)):\n",
    "        # find the end of this pattern\n",
    "        end_ix = i + n_steps\n",
    "        # check if we are beyond the dataset\n",
    "        if end_ix > len(sequences):\n",
    "            break\n",
    "        # gather input and output parts of the pattern\n",
    "        seq_x, seq_y = sequences[i:end_ix, :-1], sequences[end_ix-1, -1]\n",
    "        X.append(seq_x)\n",
    "        y.append(seq_y)\n",
    "    return np.array(X), np.array(y)"
   ]
  },
  {
   "cell_type": "code",
   "execution_count": 5,
   "metadata": {},
   "outputs": [],
   "source": [
    "# # MULTIVARIATE BINARY"
   ]
  },
  {
   "cell_type": "code",
   "execution_count": 5,
   "metadata": {},
   "outputs": [],
   "source": [
    "# Load Data\n",
    "df_financials = load_financial_data(filepath = 'data/top20_aggre_price_reduced.csv', start_date = '2017-07-28', end_date = '2018-07-27', tickers = 'BTC')\n",
    "df_sentiment = load_sentiment_data(filepath = 'data/BTC_sentiment_aggr_shifted.csv', start_date = '2017-07-28', end_date = '2018-07-27')\n",
    "# Merge the data\n",
    "df_merged = merge_sentiment_financials(df_financials, df_sentiment)"
   ]
  },
  {
   "cell_type": "code",
   "execution_count": 6,
   "metadata": {},
   "outputs": [],
   "source": [
    "# Get different values for BTC (log, diff, combination)\n",
    "\n",
    "# Diff\n",
    "df_merged['BTC_diff'] = df_merged['BTC']-df_merged['BTC'].shift()\n",
    "\n",
    "\n",
    "# Log\n",
    "df_merged['BTC_log']= np.log(df_merged['BTC'])\n",
    "\n",
    "# Diff of log\n",
    "df_merged['BTC_log_diff'] = df_merged['BTC_log']-df_merged['BTC_log'].shift()\n",
    "\n",
    "# Drop empty rows which were created through diff\n",
    "df_merged.dropna(inplace = True)\n",
    "\n",
    "# Make financial data binary (rise: 1/not rise: 0)\n",
    "df_merged['BTC_bin'] = np.sign(df_merged['BTC_diff'])\n",
    "df_merged['BTC_bin'] = df_merged['BTC_bin'].replace(to_replace = -1, value = 0)\n",
    "\n"
   ]
  },
  {
   "cell_type": "code",
   "execution_count": 7,
   "metadata": {},
   "outputs": [],
   "source": [
    "#Fill missing values with the ffill method\n",
    "df_merged['amount_of_tweets'] = df_merged['amount_of_tweets'].replace(to_replace=0, method = 'ffill')\n",
    "df_merged['sentiment'] = df_merged['sentiment'].replace(to_replace=0, method = 'ffill')\n",
    "df_merged['weighted_sentiment'] = df_merged['weighted_sentiment'].replace(to_replace=0, method = 'ffill')"
   ]
  },
  {
   "cell_type": "code",
   "execution_count": 17,
   "metadata": {},
   "outputs": [],
   "source": [
    "in_seq1 = df_merged['BTC_bin'].values\n",
    "in_seq2 = df_merged['weighted_sentiment'].values\n",
    "in_seq3 = df_merged['amount_of_tweets'].values\n",
    "out_seq = df_merged['BTC_bin'].shift(-1).values"
   ]
  },
  {
   "cell_type": "code",
   "execution_count": 18,
   "metadata": {},
   "outputs": [],
   "source": [
    "# convert to [rows, columns] structure\n",
    "in_seq1 = in_seq1.reshape((len(in_seq1), 1))\n",
    "in_seq2 = in_seq2.reshape((len(in_seq2), 1))\n",
    "in_seq3 = in_seq3.reshape((len(in_seq3), 1))\n",
    "out_seq = out_seq.reshape((len(out_seq), 1))\n",
    "# horizontally stack columns\n",
    "dataset = np.hstack((in_seq1, in_seq2, in_seq3, out_seq))\n",
    "# remove nans\n",
    "dataset = dataset[~np.isnan(dataset).any(axis=1)]"
   ]
  },
  {
   "cell_type": "code",
   "execution_count": 19,
   "metadata": {},
   "outputs": [],
   "source": [
    "# Split the sequences\n",
    "n_steps = 24\n",
    "n_features = 3\n",
    "X, y = split_sequences(dataset, n_steps)"
   ]
  },
  {
   "cell_type": "code",
   "execution_count": 20,
   "metadata": {},
   "outputs": [],
   "source": [
    "# train / val split\n",
    "my_train_prop = 0.66\n",
    "X_train, X_val, y_train, y_val = train_test_split(X, y, \n",
    "                                                  train_size = my_train_prop, test_size  = 1 - my_train_prop, \n",
    "                                                  random_state = 1)"
   ]
  },
  {
   "cell_type": "code",
   "execution_count": 21,
   "metadata": {},
   "outputs": [],
   "source": [
    "# define model\n",
    "model = Sequential()\n",
    "model.add(Conv1D(filters=64, kernel_size=2, activation='relu', input_shape=(n_steps, n_features)))\n",
    "model.add(MaxPooling1D(pool_size=2))\n",
    "model.add(Flatten())\n",
    "model.add(Dense(50, activation='relu'))\n",
    "model.add(Dense(1, kernel_initializer='normal', activation='sigmoid'))\n",
    "model.compile(optimizer='adam', loss='binary_crossentropy', metrics=['accuracy'])"
   ]
  },
  {
   "cell_type": "code",
   "execution_count": 22,
   "metadata": {},
   "outputs": [
    {
     "name": "stdout",
     "output_type": "stream",
     "text": [
      "_________________________________________________________________\n",
      "Layer (type)                 Output Shape              Param #   \n",
      "=================================================================\n",
      "conv1d_2 (Conv1D)            (None, 23, 64)            448       \n",
      "_________________________________________________________________\n",
      "max_pooling1d_2 (MaxPooling1 (None, 11, 64)            0         \n",
      "_________________________________________________________________\n",
      "flatten_2 (Flatten)          (None, 704)               0         \n",
      "_________________________________________________________________\n",
      "dense_3 (Dense)              (None, 50)                35250     \n",
      "_________________________________________________________________\n",
      "dense_4 (Dense)              (None, 1)                 51        \n",
      "=================================================================\n",
      "Total params: 35,749\n",
      "Trainable params: 35,749\n",
      "Non-trainable params: 0\n",
      "_________________________________________________________________\n"
     ]
    }
   ],
   "source": [
    "model.summary()"
   ]
  },
  {
   "cell_type": "code",
   "execution_count": 23,
   "metadata": {},
   "outputs": [
    {
     "data": {
      "image/png": "[encoded data removed]",
      "text/plain": [
       "<matplotlib.figure.Figure at 0x2bb8819aba8>"
      ]
     },
     "metadata": {
      "needs_background": "light"
     },
     "output_type": "display_data"
    },
    {
     "name": "stdout",
     "output_type": "stream",
     "text": [
      "\n"
     ]
    },
    {
     "data": {
      "text/plain": [
       "<keras.callbacks.History at 0x2bd6f8f59b0>"
      ]
     },
     "execution_count": 23,
     "metadata": {},
     "output_type": "execute_result"
    }
   ],
   "source": [
    "#model.fit(X_train, y_train, epochs=20, verbose=1)\n",
    "model.fit(X_train, y_train, validation_data=(X_val, y_val), epochs=200, verbose=0, callbacks=my_callbacks)"
   ]
  },
  {
   "cell_type": "code",
   "execution_count": 25,
   "metadata": {},
   "outputs": [],
   "source": [
    "my_pred = model.predict(X_val).round().astype('int').reshape(1,2970).flatten()\n",
    "my_ground_truth = y_val.astype('int')"
   ]
  },
  {
   "cell_type": "code",
   "execution_count": 26,
   "metadata": {},
   "outputs": [
    {
     "name": "stdout",
     "output_type": "stream",
     "text": [
      "Confusion Matrix: \n",
      "[[  263.  1165.]\n",
      " [  284.  1258.]]\n",
      "Precision: 0.519191085431\n",
      "Recall: 0.815823605707\n",
      "Accuracy: 0.512121212121\n"
     ]
    }
   ],
   "source": [
    "conf_mat = confusion_matrix(my_pred, my_ground_truth)\n",
    "precision, recall, accuracy = compute_metrics(conf_mat)"
   ]
  },
  {
   "cell_type": "code",
   "execution_count": null,
   "metadata": {},
   "outputs": [],
   "source": [
    "# UNIVARIATE BINARY"
   ]
  },
  {
   "cell_type": "code",
   "execution_count": 27,
   "metadata": {},
   "outputs": [],
   "source": [
    "# convert to [rows, columns] structure\n",
    "in_seq1 = in_seq1.reshape((len(in_seq1), 1))\n",
    "out_seq = out_seq.reshape((len(out_seq), 1))\n",
    "# horizontally stack columns\n",
    "dataset = np.hstack((in_seq1, out_seq))\n",
    "# remove nans\n",
    "dataset = dataset[~np.isnan(dataset).any(axis=1)]"
   ]
  },
  {
   "cell_type": "code",
   "execution_count": 37,
   "metadata": {},
   "outputs": [],
   "source": [
    "# Split the sequences\n",
    "n_steps = 24\n",
    "n_features = 1\n",
    "X, y = split_sequences(dataset, n_steps)"
   ]
  },
  {
   "cell_type": "code",
   "execution_count": 46,
   "metadata": {},
   "outputs": [],
   "source": [
    "# train / val split\n",
    "my_train_prop = 0.66\n",
    "X_train, X_val, y_train, y_val = train_test_split(X, y, \n",
    "                                                  train_size = my_train_prop, test_size  = 1 - my_train_prop, \n",
    "                                                  random_state = 1)"
   ]
  },
  {
   "cell_type": "code",
   "execution_count": 47,
   "metadata": {},
   "outputs": [],
   "source": [
    "# define model\n",
    "model = Sequential()\n",
    "model.add(Conv1D(filters=64, kernel_size=2, activation='relu', input_shape=(n_steps, n_features)))\n",
    "model.add(MaxPooling1D(pool_size=2))\n",
    "model.add(Flatten())\n",
    "model.add(Dense(50, activation='relu'))\n",
    "model.add(Dense(1, kernel_initializer='normal', activation='sigmoid'))\n",
    "model.compile(optimizer='adam', loss='binary_crossentropy', metrics=['accuracy'])"
   ]
  },
  {
   "cell_type": "code",
   "execution_count": 40,
   "metadata": {},
   "outputs": [
    {
     "name": "stdout",
     "output_type": "stream",
     "text": [
      "_________________________________________________________________\n",
      "Layer (type)                 Output Shape              Param #   \n",
      "=================================================================\n",
      "conv1d_4 (Conv1D)            (None, 23, 64)            192       \n",
      "_________________________________________________________________\n",
      "max_pooling1d_4 (MaxPooling1 (None, 11, 64)            0         \n",
      "_________________________________________________________________\n",
      "flatten_4 (Flatten)          (None, 704)               0         \n",
      "_________________________________________________________________\n",
      "dense_7 (Dense)              (None, 50)                35250     \n",
      "_________________________________________________________________\n",
      "dense_8 (Dense)              (None, 1)                 51        \n",
      "=================================================================\n",
      "Total params: 35,493\n",
      "Trainable params: 35,493\n",
      "Non-trainable params: 0\n",
      "_________________________________________________________________\n"
     ]
    }
   ],
   "source": [
    "model.summary()"
   ]
  },
  {
   "cell_type": "code",
   "execution_count": 48,
   "metadata": {},
   "outputs": [
    {
     "data": {
      "image/png": "[encoded data removed]",
      "text/plain": [
       "<matplotlib.figure.Figure at 0x2bd8bcc9e48>"
      ]
     },
     "metadata": {
      "needs_background": "light"
     },
     "output_type": "display_data"
    },
    {
     "name": "stdout",
     "output_type": "stream",
     "text": [
      "\n"
     ]
    },
    {
     "data": {
      "text/plain": [
       "<keras.callbacks.History at 0x2bd5faaefd0>"
      ]
     },
     "execution_count": 48,
     "metadata": {},
     "output_type": "execute_result"
    }
   ],
   "source": [
    "model.fit(X_train, y_train, validation_data=(X_val, y_val), epochs=200, verbose=0, callbacks=my_callbacks)"
   ]
  },
  {
   "cell_type": "code",
   "execution_count": 49,
   "metadata": {},
   "outputs": [],
   "source": [
    "my_pred = model.predict(X_val).round().astype('int').reshape(1,2970).flatten()\n",
    "my_ground_truth = y_val.astype('int')"
   ]
  },
  {
   "cell_type": "code",
   "execution_count": 50,
   "metadata": {},
   "outputs": [
    {
     "name": "stdout",
     "output_type": "stream",
     "text": [
      "Confusion Matrix: \n",
      "[[ 685.  743.]\n",
      " [ 568.  974.]]\n",
      "Precision: 0.567268491555\n",
      "Recall: 0.631647211414\n",
      "Accuracy: 0.558585858586\n"
     ]
    }
   ],
   "source": [
    "conf_mat = confusion_matrix(my_pred, my_ground_truth)\n",
    "precision, recall, accuracy = compute_metrics(conf_mat)"
   ]
  },
  {
   "cell_type": "code",
   "execution_count": null,
   "metadata": {},
   "outputs": [],
   "source": []
  },
  {
   "cell_type": "code",
   "execution_count": 36,
   "metadata": {},
   "outputs": [],
   "source": [
    "# UNIVARIATE with only SENTIMENT as input\n",
    "# convert to [rows, columns] structure\n",
    "in_seq2 = in_seq2.reshape((len(in_seq2), 1))\n",
    "out_seq = out_seq.reshape((len(out_seq), 1))\n",
    "# horizontally stack columns\n",
    "dataset = np.hstack((in_seq2, out_seq))\n",
    "# remove nans\n",
    "dataset = dataset[~np.isnan(dataset).any(axis=1)]"
   ]
  },
  {
   "cell_type": "code",
   "execution_count": 45,
   "metadata": {},
   "outputs": [],
   "source": [
    "# MULTIVARIATE with sentiment and BTC_bin\n",
    "# convert to [rows, columns] structure\n",
    "in_seq1 = in_seq1.reshape((len(in_seq1), 1))\n",
    "in_seq2 = in_seq2.reshape((len(in_seq2), 1))\n",
    "#in_seq3 = in_seq3.reshape((len(in_seq3), 1))\n",
    "out_seq = out_seq.reshape((len(out_seq), 1))\n",
    "# horizontally stack columns\n",
    "dataset = np.hstack((in_seq1, in_seq2, out_seq))\n",
    "# remove nans\n",
    "dataset = dataset[~np.isnan(dataset).any(axis=1)]\n",
    "\n",
    "# Split the sequences\n",
    "n_steps = 24\n",
    "n_features = 2\n",
    "X, y = split_sequences(dataset, n_steps)"
   ]
  }
 ],
 "metadata": {
  "kernelspec": {
   "display_name": "Sentiment Env",
   "language": "python",
   "name": "sentiment_env"
  },
  "language_info": {
   "codemirror_mode": {
    "name": "ipython",
    "version": 3
   },
   "file_extension": ".py",
   "mimetype": "text/x-python",
   "name": "python",
   "nbconvert_exporter": "python",
   "pygments_lexer": "ipython3",
   "version": "3.6.7"
  }
 },
 "nbformat": 4,
 "nbformat_minor": 2
}
